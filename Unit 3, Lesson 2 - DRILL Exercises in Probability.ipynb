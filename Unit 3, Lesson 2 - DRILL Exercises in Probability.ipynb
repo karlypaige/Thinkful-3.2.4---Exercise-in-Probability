{
 "cells": [
  {
   "cell_type": "markdown",
   "metadata": {},
   "source": [
    "1.Calculate the probability of flipping a balanced coin four times and getting each pattern: HTTH, HHHH and TTHH.\n",
    "\n",
    "The answer for all 3 patterns is the same 0.0625 chance or 6.25% probability.  Because coin flips are independent with only two possible outcomes, each flip has a 50% chance of being either heads or tails. So every possible outcome in 4 flips of the coins is equally likely at 6.25% chance of occuring.\n",
    "\n",
    "Or you could tabulate it as there are 16 possible patterns (two possible outcomes repeated 4 times is 2^4).  Each possible outcome is equally likely.  So the probability of each outcome is 1/16 or 0.0625 probability or 6.25% chance of ccuring.\n",
    "\n",
    "2. If a list of people has 24 women and 21 men, then the probability of choosing a man from the list is 21/45. What is the probability of not choosing a man?\n",
    "\n",
    "Not choosing a man is choosing a woman so it is 24/45 or 0.533.  However, a better way to calculate this is to say that total probability of all outcomes always sums to 1 so if the probability of something happening is 0.467 (or 21/45) then the probability of it NOT happening is 1 - 0.467 = 0.533. \n",
    "\n",
    "3. The probability that Bernice will travel by plane sometime in the next year is 10%. The probability of a plane crash at any time is .005%. What is the probability that Bernice will be in a plane crash sometime in the next year?\n",
    "\n",
    "The probability that two independent events will occur together is the product of their probabilities.  Therefore the probability that Bernice will be in a plane crash is 0.10 * .00005 = 0.000005 or 0.0005% chance\n",
    "\n",
    "4. A data scientist wants to study the behavior of users on the company website. Each time a user clicks on a link on the website, there is a 5% chance that the user will be asked to complete a short survey about their behavior on the website. The data scientist uses the survey data to conclude that, on average, users spend 15 minutes surfing the company website before moving on to other things. What is wrong with this conclusion?\n",
    "\n",
    "I am ssuming that the \"15 minutes surfing\" is based on a question from the survey and not on metadata such as the number of surveys answered within an hour or something like that.  So assuming that the information is derived from user provided information we then look at the user pool.  The survey is only provided for 1 out of 20 clicks.  There is no information on average clicks per user which would potentially tell us how many users are offered the survey.  There is no information on how many users accept vs decline the survey.  We also do not know if the survey tracks multiple visits by the same user.  So the information provided by the survey could be from a small biased user group and not a random sample representing the population of users as it should be."
   ]
  },
  {
   "cell_type": "code",
   "execution_count": null,
   "metadata": {},
   "outputs": [],
   "source": []
  }
 ],
 "metadata": {
  "kernelspec": {
   "display_name": "Python 3",
   "language": "python",
   "name": "python3"
  },
  "language_info": {
   "codemirror_mode": {
    "name": "ipython",
    "version": 3
   },
   "file_extension": ".py",
   "mimetype": "text/x-python",
   "name": "python",
   "nbconvert_exporter": "python",
   "pygments_lexer": "ipython3",
   "version": "3.6.5"
  }
 },
 "nbformat": 4,
 "nbformat_minor": 2
}
